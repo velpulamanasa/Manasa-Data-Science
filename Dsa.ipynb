{
 "cells": [
  {
   "cell_type": "code",
   "execution_count": 2,
   "metadata": {},
   "outputs": [
    {
     "name": "stdout",
     "output_type": "stream",
     "text": [
      "hello\n"
     ]
    }
   ],
   "source": [
    "print(\"hello\")"
   ]
  },
  {
   "cell_type": "code",
   "execution_count": 1,
   "metadata": {},
   "outputs": [],
   "source": [
    "#  recurrsion\n",
    "# fact=1\n",
    "# n=int(input(\"enter a number\"))\n",
    "# for i in range(1,n+1):\n",
    "#     fact =fact*i\n",
    "# print(fact)"
   ]
  },
  {
   "cell_type": "code",
   "execution_count": null,
   "metadata": {},
   "outputs": [
    {
     "name": "stdout",
     "output_type": "stream",
     "text": [
      "120\n"
     ]
    }
   ],
   "source": [
    " "
   ]
  },
  {
   "cell_type": "code",
   "execution_count": 9,
   "metadata": {},
   "outputs": [
    {
     "name": "stdout",
     "output_type": "stream",
     "text": [
      "M\n",
      "a\n",
      "n\n",
      "a\n",
      "s\n",
      "a\n",
      " \n",
      "i\n",
      "s\n",
      " \n",
      "g\n",
      "o\n",
      "o\n",
      "d\n",
      " \n",
      "g\n",
      "i\n",
      "r\n",
      "l\n"
     ]
    }
   ],
   "source": [
    "s=\"Manasa is good girl\"\n",
    "\n",
    "for char in s:\n",
    "    print(char)"
   ]
  },
  {
   "cell_type": "code",
   "execution_count": 46,
   "metadata": {},
   "outputs": [
    {
     "data": {
      "text/plain": [
       "3"
      ]
     },
     "execution_count": 46,
     "metadata": {},
     "output_type": "execute_result"
    }
   ],
   "source": [
    "tup_1.count('a')\n",
    "tup_1.index(\"a\")"
   ]
  },
  {
   "cell_type": "code",
   "execution_count": 6,
   "metadata": {},
   "outputs": [
    {
     "name": "stdout",
     "output_type": "stream",
     "text": [
      "('srinu', 'lala', 'mouni', 'kantha')\n"
     ]
    }
   ],
   "source": [
    "tup=(\"manasa\", \"lala\", \"mouni\", \"kantha\")\n",
    "l1=list(tup)\n",
    "l1[0]=\"srinu\"\n",
    "tup=tuple(l1)\n",
    "print(tup)\n"
   ]
  },
  {
   "cell_type": "code",
   "execution_count": 9,
   "metadata": {},
   "outputs": [
    {
     "name": "stdout",
     "output_type": "stream",
     "text": [
      "('manasa', 'lala', 'mouni', 'kantha', [12, 43, 80])\n"
     ]
    }
   ],
   "source": [
    "tup=(\"manasa\", \"lala\", \"mouni\", \"kantha\")\n",
    "l1=list(tup)\n",
    "l1.append([12,43, 80])\n",
    "tup=tuple(l1)\n",
    "print(tup)"
   ]
  },
  {
   "cell_type": "code",
   "execution_count": 18,
   "metadata": {},
   "outputs": [],
   "source": [
    "tup=(\"manasa\", \"lala\", \"mouni\", \"kantha\")\n",
    "del tup\n"
   ]
  },
  {
   "cell_type": "code",
   "execution_count": 24,
   "metadata": {},
   "outputs": [
    {
     "name": "stdout",
     "output_type": "stream",
     "text": [
      "<class 'tuple'>\n"
     ]
    }
   ],
   "source": [
    "tup=(\"manasa\", \"lala\", \"mouni\", \"kantha\")\n",
    "y=(\"srinivas\",)\n",
    "tup +=y\n",
    "print(type(tup))"
   ]
  },
  {
   "cell_type": "code",
   "execution_count": 4,
   "metadata": {},
   "outputs": [
    {
     "name": "stdout",
     "output_type": "stream",
     "text": [
      "('lala', 'mouni', 'kantha')\n"
     ]
    }
   ],
   "source": [
    "tup=(\"manasa\", \"lala\", \"mouni\", \"kantha\")\n",
    "l3=list(tup)\n",
    "l3.remove(\"manasa\")\n",
    "tup=tuple(l3)\n",
    "print(tup)\n"
   ]
  },
  {
   "cell_type": "code",
   "execution_count": null,
   "metadata": {},
   "outputs": [
    {
     "data": {
      "text/plain": [
       "False"
      ]
     },
     "execution_count": 101,
     "metadata": {},
     "output_type": "execute_result"
    }
   ],
   "source": []
  },
  {
   "cell_type": "markdown",
   "metadata": {},
   "source": [
    "unpack"
   ]
  },
  {
   "cell_type": "code",
   "execution_count": 32,
   "metadata": {},
   "outputs": [
    {
     "name": "stdout",
     "output_type": "stream",
     "text": [
      "apple\n",
      "banana\n",
      "cherry\n"
     ]
    }
   ],
   "source": [
    "fruits = (\"apple\", \"banana\", \"cherry\")\n",
    "\n",
    "(green, yellow, red) = fruits\n",
    "\n",
    "print(green)\n",
    "print(yellow)\n",
    "print(red)"
   ]
  },
  {
   "cell_type": "code",
   "execution_count": 38,
   "metadata": {},
   "outputs": [
    {
     "name": "stdout",
     "output_type": "stream",
     "text": [
      "jack\n",
      " iceapple\n",
      "['apple', 'mango', 'papaya']\n"
     ]
    }
   ],
   "source": [
    "f= (\"jack\", \"apple\", \"mango\", \"papaya\",\" iceapple\")\n",
    "(yellow,*blue, pink)=f\n",
    "print(yellow)\n",
    "print(pink)\n",
    "print(blue)"
   ]
  },
  {
   "cell_type": "markdown",
   "metadata": {},
   "source": [
    "joining tuples  tup2=tup+tup1"
   ]
  },
  {
   "cell_type": "code",
   "execution_count": 1,
   "metadata": {},
   "outputs": [
    {
     "name": "stdout",
     "output_type": "stream",
     "text": [
      "('apple', 'banana', 'cherry', 'apple', 'banana', 'cherry')\n"
     ]
    }
   ],
   "source": [
    "fruits = (\"apple\", \"banana\", \"cherry\")\n",
    "mytuple = fruits * 2\n",
    "\n",
    "print(mytuple)"
   ]
  },
  {
   "cell_type": "code",
   "execution_count": 30,
   "metadata": {},
   "outputs": [
    {
     "data": {
      "text/plain": [
       "True"
      ]
     },
     "execution_count": 30,
     "metadata": {},
     "output_type": "execute_result"
    }
   ],
   "source": [
    "tup_1[-3]"
   ]
  },
  {
   "cell_type": "code",
   "execution_count": 31,
   "metadata": {},
   "outputs": [
    {
     "ename": "TypeError",
     "evalue": "'tuple' object does not support item assignment",
     "output_type": "error",
     "traceback": [
      "\u001b[1;31m---------------------------------------------------------------------------\u001b[0m",
      "\u001b[1;31mTypeError\u001b[0m                                 Traceback (most recent call last)",
      "Cell \u001b[1;32mIn[31], line 1\u001b[0m\n\u001b[1;32m----> 1\u001b[0m \u001b[43mtup_1\u001b[49m\u001b[43m[\u001b[49m\u001b[38;5;241;43m5\u001b[39;49m\u001b[43m]\u001b[49m\u001b[38;5;241m=\u001b[39m\u001b[38;5;124m\"\u001b[39m\u001b[38;5;124mmanu\u001b[39m\u001b[38;5;124m\"\u001b[39m\n",
      "\u001b[1;31mTypeError\u001b[0m: 'tuple' object does not support item assignment"
     ]
    }
   ],
   "source": [
    "tup_1[5]=\"manu\""
   ]
  },
  {
   "cell_type": "code",
   "execution_count": 100,
   "metadata": {},
   "outputs": [
    {
     "data": {
      "text/plain": [
       "['manasa', 12, True, 'a', 200, 'b']"
      ]
     },
     "execution_count": 100,
     "metadata": {},
     "output_type": "execute_result"
    }
   ],
   "source": [
    "l1=[\"manasa\", 12, True, \"a\", 200, \"b\"]\n",
    "l1"
   ]
  },
  {
   "cell_type": "code",
   "execution_count": 101,
   "metadata": {},
   "outputs": [],
   "source": [
    "l1[0]=10"
   ]
  },
  {
   "cell_type": "code",
   "execution_count": 102,
   "metadata": {},
   "outputs": [
    {
     "data": {
      "text/plain": [
       "[10, 12, True, 'a', 200, 'b', 'Lalasa']"
      ]
     },
     "execution_count": 102,
     "metadata": {},
     "output_type": "execute_result"
    }
   ],
   "source": [
    "l1.append(\"Lalasa\")\n",
    "l1"
   ]
  },
  {
   "cell_type": "code",
   "execution_count": 103,
   "metadata": {},
   "outputs": [],
   "source": [
    "l1.append([1,31,25,83,98])"
   ]
  },
  {
   "cell_type": "code",
   "execution_count": 104,
   "metadata": {},
   "outputs": [
    {
     "data": {
      "text/plain": [
       "[1, 31, 25, 83, 98]"
      ]
     },
     "execution_count": 104,
     "metadata": {},
     "output_type": "execute_result"
    }
   ],
   "source": [
    "l1.pop()"
   ]
  },
  {
   "cell_type": "code",
   "execution_count": 18,
   "metadata": {},
   "outputs": [],
   "source": [
    "l1[1]=\"lalu\""
   ]
  },
  {
   "cell_type": "code",
   "execution_count": 118,
   "metadata": {},
   "outputs": [
    {
     "data": {
      "text/plain": [
       "{'mango': 120, 'guvav': 100, 'apple': 180, 'kiwi': 210}"
      ]
     },
     "execution_count": 118,
     "metadata": {},
     "output_type": "execute_result"
    }
   ],
   "source": [
    "dec={\"mango\":120, \"guvav\":100, \"apple\":180, \"kiwi\":210}\n",
    "dec"
   ]
  },
  {
   "cell_type": "code",
   "execution_count": 21,
   "metadata": {},
   "outputs": [
    {
     "data": {
      "text/plain": [
       "dict_keys(['mango', 'guvav', 'apple', 'kiwi'])"
      ]
     },
     "execution_count": 21,
     "metadata": {},
     "output_type": "execute_result"
    }
   ],
   "source": [
    "dec.keys()"
   ]
  },
  {
   "cell_type": "code",
   "execution_count": 22,
   "metadata": {},
   "outputs": [
    {
     "data": {
      "text/plain": [
       "dict_values([120, 100, 180, 210])"
      ]
     },
     "execution_count": 22,
     "metadata": {},
     "output_type": "execute_result"
    }
   ],
   "source": [
    "dec.values()"
   ]
  },
  {
   "cell_type": "code",
   "execution_count": 39,
   "metadata": {},
   "outputs": [
    {
     "data": {
      "text/plain": [
       "{'mango': 40, 'guvav': 100, 'apple': 180, 'kiwi': 210, 'manago': 90}"
      ]
     },
     "execution_count": 39,
     "metadata": {},
     "output_type": "execute_result"
    }
   ],
   "source": [
    "dec"
   ]
  },
  {
   "cell_type": "code",
   "execution_count": 119,
   "metadata": {},
   "outputs": [],
   "source": [
    "dec[\"mango\"]=40"
   ]
  },
  {
   "cell_type": "code",
   "execution_count": 30,
   "metadata": {},
   "outputs": [
    {
     "data": {
      "text/plain": [
       "{12, 2.26, 'Manasa', True}"
      ]
     },
     "execution_count": 30,
     "metadata": {},
     "output_type": "execute_result"
    }
   ],
   "source": [
    "set = {12, \"Manasa\", 2.26, True}\n",
    "set"
   ]
  },
  {
   "cell_type": "code",
   "execution_count": 107,
   "metadata": {},
   "outputs": [
    {
     "data": {
      "text/plain": [
       "{1, 29, 39}"
      ]
     },
     "execution_count": 107,
     "metadata": {},
     "output_type": "execute_result"
    }
   ],
   "source": [
    "set1= {1,1,1,1,1,1, 39, 29}\n",
    "set1"
   ]
  },
  {
   "cell_type": "code",
   "execution_count": 114,
   "metadata": {},
   "outputs": [],
   "source": [
    "set1.add(\"lalu\")"
   ]
  },
  {
   "cell_type": "code",
   "execution_count": 115,
   "metadata": {},
   "outputs": [],
   "source": [
    "set1.update([\"mounish\", 120, \"3i+4J\"])"
   ]
  },
  {
   "cell_type": "code",
   "execution_count": 116,
   "metadata": {},
   "outputs": [
    {
     "data": {
      "text/plain": [
       "'lalu'"
      ]
     },
     "execution_count": 116,
     "metadata": {},
     "output_type": "execute_result"
    }
   ],
   "source": [
    "set1.pop()"
   ]
  },
  {
   "cell_type": "markdown",
   "metadata": {},
   "source": [
    "DSA Array"
   ]
  },
  {
   "cell_type": "code",
   "execution_count": 2,
   "metadata": {},
   "outputs": [],
   "source": [
    "import array"
   ]
  },
  {
   "cell_type": "code",
   "execution_count": 13,
   "metadata": {},
   "outputs": [
    {
     "data": {
      "text/plain": [
       "12"
      ]
     },
     "execution_count": 13,
     "metadata": {},
     "output_type": "execute_result"
    }
   ],
   "source": [
    "a=array.array('i',(12,13,15,14))\n",
    "a[0]"
   ]
  },
  {
   "cell_type": "code",
   "execution_count": null,
   "metadata": {},
   "outputs": [
    {
     "data": {
      "text/plain": [
       "(20, 5)"
      ]
     },
     "execution_count": 17,
     "metadata": {},
     "output_type": "execute_result"
    }
   ],
   "source": [
    "#  temp variable\n",
    "# a=12\n",
    "# b=20\n",
    "# temp=0\n",
    "# temp=a\n",
    "# a=b\n",
    "# b=temp\n",
    "# a,b\n",
    "\n",
    "a=5\n",
    "b=20\n",
    "# a=a^b\n",
    "# print(a)\n",
    "# b=a^b\n",
    "# print(b)\n",
    "# a=a^b\n",
    "# a,b\n",
    "# a=a+b\n",
    "# b=a-b\n",
    "# a=a-b\n",
    "a,b"
   ]
  },
  {
   "cell_type": "code",
   "execution_count": null,
   "metadata": {},
   "outputs": [
    {
     "name": "stdout",
     "output_type": "stream",
     "text": [
      "[]\n"
     ]
    }
   ],
   "source": []
  },
  {
   "cell_type": "code",
   "execution_count": 14,
   "metadata": {},
   "outputs": [],
   "source": [
    "import numpy as np"
   ]
  },
  {
   "cell_type": "code",
   "execution_count": null,
   "metadata": {},
   "outputs": [
    {
     "name": "stdout",
     "output_type": "stream",
     "text": [
      "<class 'numpy.ndarray'>\n"
     ]
    },
    {
     "data": {
      "text/plain": [
       "array([[15, 87, 90],\n",
       "       [13, 25, 18]])"
      ]
     },
     "execution_count": 12,
     "metadata": {},
     "output_type": "execute_result"
    }
   ],
   "source": [
    "arr=np.array([[12,15,87,90,54],[10,13,25,18,11]])\n",
    "print(type(arr))\n"
   ]
  },
  {
   "cell_type": "code",
   "execution_count": 28,
   "metadata": {},
   "outputs": [
    {
     "data": {
      "text/plain": [
       "90"
      ]
     },
     "execution_count": 28,
     "metadata": {},
     "output_type": "execute_result"
    }
   ],
   "source": [
    "import numpy as np\n",
    "arr= np.array([[12,15,16],[90,80,70]])\n",
    "arr[1][0]"
   ]
  },
  {
   "cell_type": "code",
   "execution_count": 1,
   "metadata": {},
   "outputs": [],
   "source": [
    "import array as myarray"
   ]
  },
  {
   "cell_type": "markdown",
   "metadata": {},
   "source": [
    "array through array module typecodes are i, f,d,u"
   ]
  },
  {
   "cell_type": "code",
   "execution_count": 11,
   "metadata": {},
   "outputs": [
    {
     "name": "stdout",
     "output_type": "stream",
     "text": [
      "i\n",
      "d\n",
      "array('i', [12, 42, 65, 78])\n"
     ]
    }
   ],
   "source": [
    "arr1=myarray.array(\"i\",[12,42,65,78])\n",
    "arr2=myarray.array(\"d\",[1.2,5.3,7.8,9.6])\n",
    "print(arr1.typecode)\n",
    "print(arr2.typecode)\n",
    "print(arr1)"
   ]
  },
  {
   "cell_type": "code",
   "execution_count": 10,
   "metadata": {},
   "outputs": [
    {
     "name": "stdout",
     "output_type": "stream",
     "text": [
      "4\n",
      "4\n"
     ]
    }
   ],
   "source": [
    "print(len(arr1))\n",
    "print(len(arr2))     "
   ]
  },
  {
   "cell_type": "code",
   "execution_count": 23,
   "metadata": {},
   "outputs": [
    {
     "name": "stdout",
     "output_type": "stream",
     "text": [
      "12 42 65 78 \n",
      "\n",
      "1.2 5.3 7.8 9.6 "
     ]
    }
   ],
   "source": [
    "for i in range(0,len(arr1)):\n",
    "    print(arr1[i],end=\" \")\n",
    "print(\"\\n\")\n",
    "\n",
    "for i in range(0,len(arr2)):\n",
    "    print(arr2[i],end=\" \")"
   ]
  },
  {
   "cell_type": "code",
   "execution_count": 66,
   "metadata": {},
   "outputs": [
    {
     "name": "stdout",
     "output_type": "stream",
     "text": [
      "[1, 6, 11, 16, 21, 26, 31, 36, 41, 46, 51, 56, 61, 66, 71, 76, 81, 86, 91, 96]\n"
     ]
    }
   ],
   "source": [
    "print(list(range(1,100, 5)))\n",
    "\n"
   ]
  },
  {
   "cell_type": "code",
   "execution_count": 81,
   "metadata": {},
   "outputs": [
    {
     "name": "stdout",
     "output_type": "stream",
     "text": [
      "1 5 9 13 17 21 25 29 33 37 41 45 49 53 57 61 65 69 73 77 81 85 89 93 97 \n",
      "\n",
      "5\n"
     ]
    }
   ],
   "source": [
    "x=list(range(1,100,4))\n",
    "nuw_array=myarray.array(\"i\",x)\n",
    "# to display elemens in an array with out type code\n",
    "for i in range(0, len(nuw_array)):\n",
    "    print(nuw_array[i], end=\" \")\n",
    "print(\"\\n\")\n",
    "print(nuw_array[1])    "
   ]
  },
  {
   "cell_type": "code",
   "execution_count": 31,
   "metadata": {},
   "outputs": [
    {
     "name": "stdout",
     "output_type": "stream",
     "text": [
      "0 1 1 2 3 5 8 13 21 34 "
     ]
    }
   ],
   "source": [
    "#  fibanacci series\n",
    "a=0\n",
    "b=1\n",
    "n=10\n",
    "print(f\"{a} {b}\", end=\" \")\n",
    "for i in range(n-2):\n",
    "    n=a+b\n",
    "    print(n, end=\" \")\n",
    "    a=b\n",
    "    b=n\n",
    "    \n",
    "    "
   ]
  },
  {
   "cell_type": "code",
   "execution_count": 145,
   "metadata": {},
   "outputs": [
    {
     "name": "stdout",
     "output_type": "stream",
     "text": [
      "10 27 35 60 65 \n",
      "\n",
      "10 27 35 100 60 65 \n",
      "\n",
      "10 27 35 100 60 65 120 \n",
      "\n",
      "1006 27 35 100 60 65 120 \n",
      "\n",
      "1006 27 35 60 65 120 \n",
      "\n",
      "1006 27 60 65 120 "
     ]
    }
   ],
   "source": [
    "arr=myarray.array('i', [10,27,35,60,65])\n",
    "for i in range(0, len(arr)):\n",
    "    print(arr[i], end=\" \")\n",
    "#  insertng elements in an array     \n",
    "print(\"\\n\")\n",
    "arr.insert(3,100)\n",
    "for i in range(0, len(arr)):\n",
    "    print(arr[i], end=\" \")\n",
    "print(\"\\n\")    \n",
    "# appening a elements in an array\n",
    "arr.append(120)             \n",
    "for i in range(0, len(arr)):\n",
    "    print(arr[i], end=\" \")\n",
    "print(\"\\n\")\n",
    "# updating element in an array\n",
    "arr[0]=1006 \n",
    "for i in range(0, len(arr)):\n",
    "    print(arr[i], end=\" \") \n",
    "print(\"\\n\")\n",
    "    #  deleting the element from index\n",
    "arr.pop(3)\n",
    "for i in range(0, len(arr)):\n",
    "    print(arr[i], end=\" \")\n",
    "print(\"\\n\")  \n",
    "# remove helps in removing the element like 35 \n",
    "arr.remove(35)\n",
    "for i in range(0, len(arr)):\n",
    "    print(arr[i], end=\" \")\n",
    "\n",
    "\n",
    "    "
   ]
  },
  {
   "cell_type": "code",
   "execution_count": 2,
   "metadata": {},
   "outputs": [],
   "source": [
    "import array as myarray"
   ]
  },
  {
   "cell_type": "code",
   "execution_count": 51,
   "metadata": {},
   "outputs": [
    {
     "name": "stdout",
     "output_type": "stream",
     "text": [
      "0, 3, 6, 9, 12, 15, 18, 21, 24, 27, 30, 33, 36, 39, 42, 45, 48, 51, 54, 57, 60, 63, 66, 69, 72, 75, 78, 81, 84, 87, 90, 93, 96, 99, "
     ]
    }
   ],
   "source": [
    "x=list(range(0,100,3))\n",
    "arr=myarray.array(\"i\",x)\n",
    "for i in arr:\n",
    "    print(i, end=\", \")\n",
    "# print(len(arr))"
   ]
  },
  {
   "cell_type": "code",
   "execution_count": 52,
   "metadata": {},
   "outputs": [
    {
     "name": "stdout",
     "output_type": "stream",
     "text": [
      "33\n",
      "99 33\n"
     ]
    }
   ],
   "source": [
    "# for i in range(0, len(arr[1:10])):\n",
    "#     print(arr[i], end=\" \")\n",
    "# print(\"\\n\")\n",
    "'''  search a 99 number in an array and its index number'''\n",
    "index=arr.index(99) \n",
    "print(index)\n",
    "res=arr[index]   \n",
    "print(res,index)\n"
   ]
  },
  {
   "cell_type": "code",
   "execution_count": 15,
   "metadata": {},
   "outputs": [
    {
     "name": "stdout",
     "output_type": "stream",
     "text": [
      "0 5 10 15 20 25 30 35 40 45 50 55 60 65 70 75 80 85 90 95 \n",
      "\n",
      "\n",
      "\n",
      "95 90 85 80 75 70 65 60 55 50 45 40 35 30 25 20 15 10 5 0 "
     ]
    }
   ],
   "source": [
    "arr2=arr[10:25]\n",
    "for i in range(0,len(arr2)):\n",
    "    print(arr2[i], end=\" \")\n",
    "print(\"\\n\")\n",
    "\n",
    "arr3=arr[10:-10] \n",
    "for i in range(0, len(arr3)):\n",
    "    print(arr3[i], end=\" \")\n",
    "print(\"\\n\")\n",
    "\n",
    "arr4=arr[::-1] \n",
    "for i in range(0, len(arr4)):\n",
    "    print(arr4[i], end=\" \")                \n",
    "                 "
   ]
  },
  {
   "cell_type": "markdown",
   "metadata": {},
   "source": [
    "Sortin an array ascending anf descending"
   ]
  },
  {
   "cell_type": "code",
   "execution_count": 35,
   "metadata": {},
   "outputs": [],
   "source": [
    "arr0=myarray.array(\"i\",[10,23,1,76,98,32,11])\n",
    "arr8=arr0.tolist()"
   ]
  },
  {
   "cell_type": "code",
   "execution_count": 38,
   "metadata": {},
   "outputs": [
    {
     "data": {
      "text/plain": [
       "[1, 10, 11, 23, 32, 76, 98]"
      ]
     },
     "execution_count": 38,
     "metadata": {},
     "output_type": "execute_result"
    }
   ],
   "source": [
    "# asecnding order\n",
    "arr8.sort()\n",
    "arr8"
   ]
  },
  {
   "cell_type": "code",
   "execution_count": 40,
   "metadata": {},
   "outputs": [
    {
     "data": {
      "text/plain": [
       "[98, 76, 32, 23, 11, 10, 1]"
      ]
     },
     "execution_count": 40,
     "metadata": {},
     "output_type": "execute_result"
    }
   ],
   "source": [
    "# desccending order\n",
    "arr8.sort(reverse=True)\n",
    "arr8"
   ]
  },
  {
   "cell_type": "code",
   "execution_count": 43,
   "metadata": {},
   "outputs": [],
   "source": [
    "import  numpy as np\n",
    "import random"
   ]
  },
  {
   "cell_type": "code",
   "execution_count": 10,
   "metadata": {},
   "outputs": [
    {
     "name": "stdout",
     "output_type": "stream",
     "text": [
      "[[1. 1.]\n",
      " [1. 1.]] \n",
      "\n",
      "[[0. 0.]\n",
      " [0. 0.]] \n",
      "\n",
      "[[10 10]\n",
      " [10 10]] \n",
      "\n",
      "[[1. 0. 0. 0.]\n",
      " [0. 1. 0. 0.]\n",
      " [0. 0. 1. 0.]\n",
      " [0. 0. 0. 1.]] \n",
      "\n",
      "[[0.55857731 0.18368989 0.2209893 ]\n",
      " [0.38843635 0.10430091 0.57843762]]\n"
     ]
    }
   ],
   "source": [
    "a=np.ones((2,2))\n",
    "print(a,\"\\n\")\n",
    "\n",
    "b=np.zeros((2,2))\n",
    "print(b,\"\\n\")\n",
    "\n",
    "c=np.full((2,2),10)\n",
    "print(c,\"\\n\")\n",
    "\n",
    "d=np.eye(4)\n",
    "print(d,\"\\n\")\n",
    "\n",
    "e=np.random.random((2,3))\n",
    "print(e)"
   ]
  },
  {
   "cell_type": "code",
   "execution_count": 9,
   "metadata": {},
   "outputs": [
    {
     "name": "stdout",
     "output_type": "stream",
     "text": [
      "1 \n",
      "\n",
      "[ 12  13 251] \n",
      "\n",
      "[[12 32 17]\n",
      " [10 20 30]] \n",
      "\n",
      "[[ 1  2  3]\n",
      " [12 32 43]\n",
      " [90 80 70]] \n",
      "\n"
     ]
    }
   ],
   "source": [
    "print(np.array(1),\"\\n\")\n",
    "print(np.array([12,13,251]),'\\n')\n",
    "print(np.array([[12,32,17],[10,20,30]]),\"\\n\")\n",
    "print(np.array([[1,2,3],[12,32,43],[90,80,70]]),\"\\n\")"
   ]
  },
  {
   "cell_type": "code",
   "execution_count": 7,
   "metadata": {},
   "outputs": [
    {
     "name": "stdout",
     "output_type": "stream",
     "text": [
      "12 32 80 65 48 43 90 \n",
      "\n",
      "12 32 80 65 1000 43 90 \n",
      "\n",
      "12 32 80 65 1000 43 \n",
      "\n"
     ]
    }
   ],
   "source": [
    "arr=np.array([12,32,80,65,48,43,90])\n",
    "for i in range(0, len(arr)):\n",
    "    print(arr[i],end=\" \")\n",
    "print('\\n')    \n",
    "    \n",
    "arr[4]=1000    \n",
    "for i in range(0, len(arr)):\n",
    "    print(arr[i],end=\" \")\n",
    "print('\\n')\n",
    "\n",
    "a=np.delete(arr,6)\n",
    "for i in range(0, len(a)):\n",
    "    print(a[i],end=\" \")\n",
    "print('\\n')"
   ]
  },
  {
   "cell_type": "markdown",
   "metadata": {},
   "source": [
    "searching in numpy "
   ]
  },
  {
   "cell_type": "code",
   "execution_count": 8,
   "metadata": {},
   "outputs": [
    {
     "name": "stdout",
     "output_type": "stream",
     "text": [
      "[  12   32   90  776   49 1000] \n",
      "\n",
      "(array([5], dtype=int64),)\n",
      "1000\n",
      "[  12   32   43   65   80 1000]\n"
     ]
    }
   ],
   "source": [
    "p=np.array([12,32,90,776,49,1000])\n",
    "print(p,\"\\n\")\n",
    "ab=np.where(p==1000)\n",
    "print(ab)\n",
    "# searching 1000 index is 5\n",
    "print(p[5])\n",
    "\n",
    "\n",
    "print(np.sort(a))"
   ]
  },
  {
   "cell_type": "code",
   "execution_count": 5,
   "metadata": {},
   "outputs": [
    {
     "name": "stdout",
     "output_type": "stream",
     "text": [
      "[ 22  51 106 130] \n",
      "\n",
      "[ 2 11 46 50] \n",
      "\n",
      "[ 120  620 2280 3600] \n",
      "\n",
      "[1.2        1.55       2.53333333 2.25      ] \n",
      "\n",
      "[3.46410162 5.56776436 8.71779789 9.48683298] \n",
      "\n",
      "[[ 1 12 10]\n",
      " [ 2 13 20]\n",
      " [ 3 14 30]\n",
      " [ 4 15 40]]\n"
     ]
    }
   ],
   "source": [
    "x=np.array([12,31,76,90])\n",
    "y=np.array([10,20,30,40])\n",
    "\n",
    "\n",
    "print(np.add(x,y),\"\\n\")\n",
    "print(np.subtract(x,y),\"\\n\")\n",
    "print(np.multiply(x,y),\"\\n\")\n",
    "print(np.divide(x,y),\"\\n\")\n",
    "print(np.sqrt(x),\"\\n\")\n",
    "\n",
    "z=np.array([[1,2,3,4],[12,13,14,15],[10,20,30,40]])\n",
    "# row to column and column to row\n",
    "print(np.transpose(z))\n"
   ]
  },
  {
   "cell_type": "markdown",
   "metadata": {},
   "source": [
    "Stack emplementation with list tc=o(n)"
   ]
  },
  {
   "cell_type": "code",
   "execution_count": 39,
   "metadata": {},
   "outputs": [
    {
     "name": "stdout",
     "output_type": "stream",
     "text": [
      "100\n",
      "3\n",
      "isempty True\n"
     ]
    }
   ],
   "source": [
    "stack=[]\n",
    "stack.append(10)\n",
    "stack.append(29)\n",
    "stack.append(100)\n",
    "\n",
    "stack.append(102)\n",
    "stack.pop()\n",
    "stack\n",
    "# to see topmost element in stack -1 peek, size, empty\n",
    "print(stack[-1])\n",
    "print(len(stack))\n",
    "print(\"isempty\",bool(stack))"
   ]
  },
  {
   "cell_type": "markdown",
   "metadata": {},
   "source": [
    "through collection  , deque"
   ]
  },
  {
   "cell_type": "code",
   "execution_count": 25,
   "metadata": {},
   "outputs": [
    {
     "name": "stdout",
     "output_type": "stream",
     "text": [
      "10 100 1000 10000 "
     ]
    },
    {
     "data": {
      "text/plain": [
       "deque([10, 100, 1000])"
      ]
     },
     "execution_count": 25,
     "metadata": {},
     "output_type": "execute_result"
    }
   ],
   "source": [
    "from collections import deque\n",
    "stack=deque()\n",
    "stack.append(10)\n",
    "stack.append(100)\n",
    "stack.append(1000)\n",
    "stack.append(10000)\n",
    "for i in range(0,len(stack)):\n",
    "    print(stack[i], end=\" \")\n",
    "\n",
    "stack.pop()\n",
    "stack"
   ]
  },
  {
   "cell_type": "markdown",
   "metadata": {},
   "source": [
    "through queue"
   ]
  },
  {
   "cell_type": "code",
   "execution_count": 24,
   "metadata": {},
   "outputs": [
    {
     "name": "stdout",
     "output_type": "stream",
     "text": [
      "<queue.LifoQueue object at 0x000001C4223DE750>\n"
     ]
    },
    {
     "data": {
      "text/plain": [
       "True"
      ]
     },
     "execution_count": 24,
     "metadata": {},
     "output_type": "execute_result"
    }
   ],
   "source": [
    "from queue import LifoQueue\n",
    "stack=LifoQueue(maxsize=4)\n",
    "\n",
    "stack.put(12)\n",
    "stack.put(22)\n",
    "stack.put(122)\n",
    "stack.put(1222)\n",
    "print(stack)\n",
    "stack.full()"
   ]
  },
  {
   "cell_type": "code",
   "execution_count": null,
   "metadata": {},
   "outputs": [
    {
     "ename": "TypeError",
     "evalue": "'builtin_function_or_method' object is not subscriptable",
     "output_type": "error",
     "traceback": [
      "\u001b[1;31m---------------------------------------------------------------------------\u001b[0m",
      "\u001b[1;31mTypeError\u001b[0m                                 Traceback (most recent call last)",
      "Cell \u001b[1;32mIn[6], line 2\u001b[0m\n\u001b[0;32m      1\u001b[0m \u001b[38;5;28;01mimport\u001b[39;00m \u001b[38;5;21;01mnumpy\u001b[39;00m \u001b[38;5;28;01mas\u001b[39;00m \u001b[38;5;21;01mnp\u001b[39;00m\n\u001b[1;32m----> 2\u001b[0m a\u001b[38;5;241m=\u001b[39m\u001b[43mnp\u001b[49m\u001b[38;5;241;43m.\u001b[39;49m\u001b[43marray\u001b[49m\u001b[43m[\u001b[49m\u001b[43m[\u001b[49m\u001b[38;5;241;43m12\u001b[39;49m\u001b[43m,\u001b[49m\u001b[38;5;241;43m43\u001b[39;49m\u001b[43m,\u001b[49m\u001b[38;5;241;43m67\u001b[39;49m\u001b[43m]\u001b[49m\u001b[43m,\u001b[49m\u001b[43m[\u001b[49m\u001b[38;5;241;43m90\u001b[39;49m\u001b[43m,\u001b[49m\u001b[38;5;241;43m87\u001b[39;49m\u001b[43m,\u001b[49m\u001b[38;5;241;43m65\u001b[39;49m\u001b[43m]\u001b[49m\u001b[43m]\u001b[49m\n\u001b[0;32m      3\u001b[0m a\u001b[38;5;241m.\u001b[39mndim\n",
      "\u001b[1;31mTypeError\u001b[0m: 'builtin_function_or_method' object is not subscriptable"
     ]
    }
   ],
   "source": [
    "\n"
   ]
  },
  {
   "cell_type": "code",
   "execution_count": 31,
   "metadata": {},
   "outputs": [
    {
     "data": {
      "text/plain": [
       "array('i', [1000, 31, 54, 80])"
      ]
     },
     "execution_count": 31,
     "metadata": {},
     "output_type": "execute_result"
    }
   ],
   "source": [
    "#  similar to below  append pop\n",
    "# stack=deque()\n",
    "# list=['Sunday','Monday','Tuesday','Wednesday','Thursday','Friday','Saturday']\n",
    "\n",
    "# same for updating\n",
    "# stack=deque([12,32,43])\n",
    "# def update(data, value):\n",
    "#     idx=stack.index(data)\n",
    "#     stack[idx]=value\n",
    "#     return stack\n",
    "# update(12,100)\n",
    "\n",
    "stack=myarray.array('i', [12,31,54,80])\n",
    "\n",
    "def update(data, value):\n",
    "    for i in range(0, len(stack)):\n",
    "        if stack[i]==data:\n",
    "            stack[i]=value\n",
    "            return stack\n",
    "        \n",
    "update(12,1000) \n",
    "    \n",
    "            "
   ]
  },
  {
   "cell_type": "code",
   "execution_count": 47,
   "metadata": {},
   "outputs": [
    {
     "name": "stdout",
     "output_type": "stream",
     "text": [
      "['Sunday']\n",
      "['Sunday', 'Monday']\n",
      "['Sunday', 'Monday', 'Tuesday']\n",
      "['Sunday', 'Monday', 'Tuesday', 'Wednesday']\n",
      "['Sunday', 'Monday', 'Tuesday', 'Wednesday', 'Thursday']\n",
      "['Sunday', 'Monday', 'Tuesday', 'Wednesday', 'Thursday', 'Friday']\n",
      "['Sunday', 'Monday', 'Tuesday', 'Wednesday', 'Thursday', 'Friday', 'Saturday']\n",
      "['Sunday', 'Monday', 'Tuesday', 'Wednesday', 'Thursday', 'Friday']\n",
      "['Sunday', 'Monday', 'Tuesday', 'Wednesday', 'Thursday']\n",
      "['Sunday', 'Monday', 'Tuesday', 'Wednesday']\n",
      "['Sunday', 'Monday', 'Tuesday']\n",
      "['Sunday', 'Monday']\n",
      "['Sunday']\n",
      "[]\n"
     ]
    }
   ],
   "source": [
    "list=['Sunday','Monday','Tuesday','Wednesday','Thursday','Friday','Saturday']\n",
    "stack=[]\n",
    "\n",
    "\n",
    "for i in range(0, len(list)):\n",
    "    stack.append(list[i])\n",
    "    print(stack)\n",
    "    \n",
    "    \n",
    "for i in range(0,len(list)):\n",
    "    stack.pop()\n",
    "    print(stack)    \n",
    "    \n",
    "    "
   ]
  },
  {
   "cell_type": "code",
   "execution_count": 21,
   "metadata": {},
   "outputs": [
    {
     "name": "stdout",
     "output_type": "stream",
     "text": [
      "100 32 78 98 12 "
     ]
    }
   ],
   "source": [
    "stack=[12,87,90,65,45]\n",
    "\n",
    "def update(data, value):\n",
    "    for i in range(0, len(stack)):\n",
    "        if stack[i]==data:\n",
    "            stack[i]=value\n",
    "            return stack\n",
    "        \n",
    "update(45,1000)    \n",
    "\n",
    "\n",
    "#  or another approach    #\n",
    "\n",
    "stack1= myarray.array('i',[12,32,78,98,12])\n",
    "\n",
    "def update(data, value):\n",
    "    idx=stack1.index(data)\n",
    "    stack1[idx]=value\n",
    "    for i in stack1:\n",
    "        print(i, end=\" \")\n",
    "        \n",
    "update(12,100)   \n",
    "    \n",
    "   \n",
    "# or same approach but diggrent mechanisim\n",
    "\n",
    "# stack[4]=1000\n",
    "# print(stack)   "
   ]
  },
  {
   "cell_type": "code",
   "execution_count": 2,
   "metadata": {},
   "outputs": [],
   "source": [
    "import array as myarray"
   ]
  },
  {
   "cell_type": "markdown",
   "metadata": {},
   "source": [
    "by arary using another approach that diff  little from  array"
   ]
  },
  {
   "cell_type": "code",
   "execution_count": 55,
   "metadata": {},
   "outputs": [
    {
     "name": "stdout",
     "output_type": "stream",
     "text": [
      "<class 'array.array'>\n",
      "1 2 3 4 5 6 7 8 9 \n",
      "\n",
      "1 2 3 4 5 6 7 8 9 10 \n",
      "\n",
      "1 2 3 4 5 6 7 8 9 \n",
      "\n",
      "1 2 3 4 5 6 7 8 \n",
      "\n",
      "1 2 3 4 5 6 7 \n",
      "\n",
      "1 2 3 4 5 6 \n",
      "\n",
      "1 2 3 4 5 \n",
      "\n",
      "1 2 3 4 \n",
      "\n",
      "1 2 3 \n",
      "\n",
      "1 2 \n",
      "\n",
      "1 \n",
      "\n",
      "\n",
      "\n"
     ]
    }
   ],
   "source": [
    "mystack=myarray.array('i',[1,2,3,4,5,6,7,8,9])\n",
    "print(type(mystack))\n",
    "\n",
    "for i in mystack:\n",
    "    print(i, end=\" \")\n",
    "print('\\n')  \n",
    "\n",
    "mystack.append(10)  \n",
    "for i in mystack:\n",
    "    print(i, end=\" \") \n",
    "print('\\n')    \n",
    "    \n",
    "\n",
    "for i in range(0, len(mystack)):\n",
    "    mystack.pop()\n",
    "    for i in mystack:\n",
    "        print(i, end=\" \")\n",
    "    print('\\n')    \n",
    "                "
   ]
  },
  {
   "cell_type": "code",
   "execution_count": 37,
   "metadata": {},
   "outputs": [
    {
     "data": {
      "text/plain": [
       "array('i', [2, 7, 10, 35, 65])"
      ]
     },
     "execution_count": 37,
     "metadata": {},
     "output_type": "execute_result"
    }
   ],
   "source": [
    "#  sorting the stack in linkedlist form  trough list, array,deque\n",
    "\n",
    "stack1=[102,32,67,90,32]\n",
    "def sort_list():\n",
    "    stack1.sort()\n",
    "    return stack1\n",
    "\n",
    "sort_list()\n",
    "\n",
    "\n",
    "stack_deque=deque([80,65,2,10,7,35,92])\n",
    "sample=[]\n",
    "\n",
    "def sort_deue():\n",
    "    for i in range(0, len(stack_deque)):\n",
    "        x=stack_deque.pop()\n",
    "        sample.append(x)\n",
    "    sample.sort() \n",
    "    for i in sample:\n",
    "        stack_deque.append(i)\n",
    "    return stack_deque   \n",
    "    \n",
    "sort_deue()\n",
    "\n",
    "\n",
    "stack_arr=myarray.array('i', [65,2,10,7,35])\n",
    "\n",
    "sample1=[]\n",
    "def sort_arr():\n",
    "    for i in range(0, len(stack_arr)):\n",
    "        x=stack_arr.pop()\n",
    "        sample1.append(x)\n",
    "    sample1.sort() \n",
    "    for i in sample1:\n",
    "        stack_arr.append(i)\n",
    "    return stack_arr  \n",
    "    \n",
    "sort_arr()    \n",
    "    "
   ]
  },
  {
   "cell_type": "code",
   "execution_count": 23,
   "metadata": {},
   "outputs": [
    {
     "name": "stdout",
     "output_type": "stream",
     "text": [
      "10\n"
     ]
    }
   ],
   "source": [
    "class myname:\n",
    "    x=10\n",
    "    \n",
    "p1=myname()\n",
    "print(p1.x)    "
   ]
  },
  {
   "cell_type": "markdown",
   "metadata": {},
   "source": [
    "youtube downloader"
   ]
  },
  {
   "cell_type": "code",
   "execution_count": 1,
   "metadata": {},
   "outputs": [
    {
     "ename": "PytubeError",
     "evalue": "Exception while accessing title of https://youtube.com/watch?v=OKuiyX5k6zg. Please file a bug report at https://github.com/pytube/pytube",
     "output_type": "error",
     "traceback": [
      "\u001b[1;31m---------------------------------------------------------------------------\u001b[0m",
      "\u001b[1;31mKeyError\u001b[0m                                  Traceback (most recent call last)",
      "File \u001b[1;32m~\\AppData\\Roaming\\Python\\Python312\\site-packages\\pytube\\__main__.py:341\u001b[0m, in \u001b[0;36mYouTube.title\u001b[1;34m(self)\u001b[0m\n\u001b[0;32m    340\u001b[0m \u001b[38;5;28;01mtry\u001b[39;00m:\n\u001b[1;32m--> 341\u001b[0m     \u001b[38;5;28mself\u001b[39m\u001b[38;5;241m.\u001b[39m_title \u001b[38;5;241m=\u001b[39m \u001b[38;5;28;43mself\u001b[39;49m\u001b[38;5;241;43m.\u001b[39;49m\u001b[43mvid_info\u001b[49m\u001b[43m[\u001b[49m\u001b[38;5;124;43m'\u001b[39;49m\u001b[38;5;124;43mvideoDetails\u001b[39;49m\u001b[38;5;124;43m'\u001b[39;49m\u001b[43m]\u001b[49m[\u001b[38;5;124m'\u001b[39m\u001b[38;5;124mtitle\u001b[39m\u001b[38;5;124m'\u001b[39m]\n\u001b[0;32m    342\u001b[0m \u001b[38;5;28;01mexcept\u001b[39;00m \u001b[38;5;167;01mKeyError\u001b[39;00m:\n\u001b[0;32m    343\u001b[0m     \u001b[38;5;66;03m# Check_availability will raise the correct exception in most cases\u001b[39;00m\n\u001b[0;32m    344\u001b[0m     \u001b[38;5;66;03m#  if it doesn't, ask for a report.\u001b[39;00m\n",
      "\u001b[1;31mKeyError\u001b[0m: 'videoDetails'",
      "\nDuring handling of the above exception, another exception occurred:\n",
      "\u001b[1;31mPytubeError\u001b[0m                               Traceback (most recent call last)",
      "Cell \u001b[1;32mIn[1], line 4\u001b[0m\n\u001b[0;32m      2\u001b[0m link\u001b[38;5;241m=\u001b[39m\u001b[38;5;124m\"\u001b[39m\u001b[38;5;124mhttps://youtu.be/OKuiyX5k6zg\u001b[39m\u001b[38;5;124m\"\u001b[39m\n\u001b[0;32m      3\u001b[0m ut\u001b[38;5;241m=\u001b[39mYouTube(link)\n\u001b[1;32m----> 4\u001b[0m \u001b[38;5;28mprint\u001b[39m(\u001b[43mut\u001b[49m\u001b[38;5;241;43m.\u001b[39;49m\u001b[43mtitle\u001b[49m)\n\u001b[0;32m      5\u001b[0m \u001b[38;5;66;03m# print(ut.thumbnail_url)\u001b[39;00m\n",
      "File \u001b[1;32m~\\AppData\\Roaming\\Python\\Python312\\site-packages\\pytube\\__main__.py:346\u001b[0m, in \u001b[0;36mYouTube.title\u001b[1;34m(self)\u001b[0m\n\u001b[0;32m    342\u001b[0m \u001b[38;5;28;01mexcept\u001b[39;00m \u001b[38;5;167;01mKeyError\u001b[39;00m:\n\u001b[0;32m    343\u001b[0m     \u001b[38;5;66;03m# Check_availability will raise the correct exception in most cases\u001b[39;00m\n\u001b[0;32m    344\u001b[0m     \u001b[38;5;66;03m#  if it doesn't, ask for a report.\u001b[39;00m\n\u001b[0;32m    345\u001b[0m     \u001b[38;5;28mself\u001b[39m\u001b[38;5;241m.\u001b[39mcheck_availability()\n\u001b[1;32m--> 346\u001b[0m     \u001b[38;5;28;01mraise\u001b[39;00m exceptions\u001b[38;5;241m.\u001b[39mPytubeError(\n\u001b[0;32m    347\u001b[0m         (\n\u001b[0;32m    348\u001b[0m             \u001b[38;5;124mf\u001b[39m\u001b[38;5;124m'\u001b[39m\u001b[38;5;124mException while accessing title of \u001b[39m\u001b[38;5;132;01m{\u001b[39;00m\u001b[38;5;28mself\u001b[39m\u001b[38;5;241m.\u001b[39mwatch_url\u001b[38;5;132;01m}\u001b[39;00m\u001b[38;5;124m. \u001b[39m\u001b[38;5;124m'\u001b[39m\n\u001b[0;32m    349\u001b[0m             \u001b[38;5;124m'\u001b[39m\u001b[38;5;124mPlease file a bug report at https://github.com/pytube/pytube\u001b[39m\u001b[38;5;124m'\u001b[39m\n\u001b[0;32m    350\u001b[0m         )\n\u001b[0;32m    351\u001b[0m     )\n\u001b[0;32m    353\u001b[0m \u001b[38;5;28;01mreturn\u001b[39;00m \u001b[38;5;28mself\u001b[39m\u001b[38;5;241m.\u001b[39m_title\n",
      "\u001b[1;31mPytubeError\u001b[0m: Exception while accessing title of https://youtube.com/watch?v=OKuiyX5k6zg. Please file a bug report at https://github.com/pytube/pytube"
     ]
    }
   ],
   "source": [
    "from pytube import YouTube\n",
    "link=\"https://youtu.be/OKuiyX5k6zg\"\n",
    "ut=YouTube(link)\n",
    "print(ut.title)\n",
    "# print(ut.thumbnail_url)"
   ]
  },
  {
   "cell_type": "markdown",
   "metadata": {},
   "source": [
    "text to handwriting"
   ]
  },
  {
   "cell_type": "code",
   "execution_count": 10,
   "metadata": {},
   "outputs": [
    {
     "ename": "UnableToAccessApi",
     "evalue": "Unable to access Pywhatkit api right now",
     "output_type": "error",
     "traceback": [
      "\u001b[1;31m---------------------------------------------------------------------------\u001b[0m",
      "\u001b[1;31mUnableToAccessApi\u001b[0m                         Traceback (most recent call last)",
      "Cell \u001b[1;32mIn[10], line 6\u001b[0m\n\u001b[0;32m      1\u001b[0m \u001b[38;5;28;01mimport\u001b[39;00m \u001b[38;5;21;01mpywhatkit\u001b[39;00m \u001b[38;5;28;01mas\u001b[39;00m \u001b[38;5;21;01mpw\u001b[39;00m\n\u001b[0;32m      2\u001b[0m txt\u001b[38;5;241m=\u001b[39m\u001b[38;5;124m\"\"\"\u001b[39m\u001b[38;5;124m I\u001b[39m\u001b[38;5;124m'\u001b[39m\u001b[38;5;124mm ChatGPT, an AI assistant designed to help with a wide range of topics, from coding and troubleshooting to brainstorming and learning new concepts. I can assist with AWS security,\u001b[39m\n\u001b[0;32m      3\u001b[0m \u001b[38;5;124mPython programming, and even creative writing. Whether you need technical guidance or just a casual chat,\u001b[39m\n\u001b[0;32m      4\u001b[0m \u001b[38;5;124mI\u001b[39m\u001b[38;5;124m'\u001b[39m\u001b[38;5;124mm here to help! \u001b[39m\u001b[38;5;124m\"\"\"\u001b[39m\n\u001b[1;32m----> 6\u001b[0m \u001b[43mpw\u001b[49m\u001b[38;5;241;43m.\u001b[39;49m\u001b[43mtext_to_handwriting\u001b[49m\u001b[43m(\u001b[49m\u001b[43mtxt\u001b[49m\u001b[43m,\u001b[49m\u001b[43m \u001b[49m\u001b[38;5;124;43m\"\u001b[39;49m\u001b[38;5;124;43mmouni.png\u001b[39;49m\u001b[38;5;124;43m\"\u001b[39;49m\u001b[43m)\u001b[49m\n\u001b[0;32m      7\u001b[0m \u001b[38;5;28mprint\u001b[39m(\u001b[38;5;124m\"\u001b[39m\u001b[38;5;124mEnd\u001b[39m\u001b[38;5;124m\"\u001b[39m)\n",
      "File \u001b[1;32m~\\AppData\\Roaming\\Python\\Python312\\site-packages\\pywhatkit\\handwriting.py:22\u001b[0m, in \u001b[0;36mtext_to_handwriting\u001b[1;34m(string, save_to, rgb)\u001b[0m\n\u001b[0;32m     20\u001b[0m         file\u001b[38;5;241m.\u001b[39mclose()\n\u001b[0;32m     21\u001b[0m \u001b[38;5;28;01melif\u001b[39;00m \u001b[38;5;241m400\u001b[39m \u001b[38;5;241m<\u001b[39m\u001b[38;5;241m=\u001b[39m status_code \u001b[38;5;241m<\u001b[39m\u001b[38;5;241m=\u001b[39m \u001b[38;5;241m599\u001b[39m:\n\u001b[1;32m---> 22\u001b[0m     \u001b[38;5;28;01mraise\u001b[39;00m exceptions\u001b[38;5;241m.\u001b[39mUnableToAccessApi(\u001b[38;5;124m\"\u001b[39m\u001b[38;5;124mUnable to access Pywhatkit api right now\u001b[39m\u001b[38;5;124m\"\u001b[39m)\n",
      "\u001b[1;31mUnableToAccessApi\u001b[0m: Unable to access Pywhatkit api right now"
     ]
    }
   ],
   "source": [
    "import pywhatkit as pw\n",
    "txt=\"\"\" I'm ChatGPT, an AI assistant designed to help with a wide range of topics, from coding and troubleshooting to brainstorming and learning new concepts. I can assist with AWS security,\n",
    "Python programming, and even creative writing. Whether you need technical guidance or just a casual chat,\n",
    "I'm here to help! \"\"\"\n",
    "\n",
    "pw.text_to_handwriting(txt, \"mouni.png\")\n",
    "print(\"End\")\n"
   ]
  },
  {
   "cell_type": "code",
   "execution_count": 10,
   "metadata": {},
   "outputs": [],
   "source": [
    "import qrcode as qr\n",
    "img=qr.make(\"https://chatgpt.com/c/679f249b-4910-8009-84cc-5448ab861513\")\n",
    "img.save(\"email.png\")"
   ]
  },
  {
   "cell_type": "code",
   "execution_count": 2,
   "metadata": {},
   "outputs": [
    {
     "name": "stdout",
     "output_type": "stream",
     "text": [
      "53535353\n"
     ]
    }
   ],
   "source": [
    "x='53'\n",
    "y=4\n",
    "print(x*y)"
   ]
  },
  {
   "cell_type": "code",
   "execution_count": 38,
   "metadata": {},
   "outputs": [],
   "source": [
    "import qrcode \n",
    "from PIL import Image\n",
    "import qrcode.constants\n",
    "qr=qrcode.QRCode(version=1,error_correction=qrcode.constants.ERROR_CORRECT_H,box_size=10,border=3)\n",
    "qr.add_data(\"https://github.com/interviewstreet\")\n",
    "qr.make(fit=True)\n",
    "img=qr.make_image(fill_color=\"orange\", back_color=\"blue\")\n",
    "img.save(\"git_hub.png\")"
   ]
  },
  {
   "cell_type": "code",
   "execution_count": 11,
   "metadata": {},
   "outputs": [
    {
     "name": "stdout",
     "output_type": "stream",
     "text": [
      "False\n"
     ]
    }
   ],
   "source": [
    "x={12,32,45,3}\n",
    "print(13 in x)"
   ]
  },
  {
   "cell_type": "code",
   "execution_count": 29,
   "metadata": {},
   "outputs": [
    {
     "data": {
      "text/plain": [
       "'asanaM'"
      ]
     },
     "execution_count": 29,
     "metadata": {},
     "output_type": "execute_result"
    }
   ],
   "source": [
    "# append\n",
    "x=\"Manasa\"\n",
    "y=\"Velpula\"\n",
    "# print(x+\" \"+y)\n",
    "# x+=y\n",
    "x\n",
    "reverse=\"\".join(reversed(x))\n",
    "reverse\n",
    "\n"
   ]
  },
  {
   "cell_type": "code",
   "execution_count": null,
   "metadata": {},
   "outputs": [
    {
     "name": "stdout",
     "output_type": "stream",
     "text": [
      "manasa\n"
     ]
    }
   ],
   "source": [
    "def func(**key):  # keyward arguments and positional arguments\n",
    "    print(key['a'])\n",
    "func(a=\"manasa\", b=\"lalasa\", c=\"mounis\")    "
   ]
  },
  {
   "cell_type": "code",
   "execution_count": 33,
   "metadata": {},
   "outputs": [
    {
     "name": "stdout",
     "output_type": "stream",
     "text": [
      "Country Code: 91 National Number: 7769892731\n",
      "('Asia/Calcutta',)\n",
      "Vodafone\n",
      "India\n"
     ]
    }
   ],
   "source": [
    "import phonenumbers\n",
    "from phonenumbers import timezone, geocoder,carrier\n",
    "user=input(\"Enter a phone number +__: \")\n",
    "phone=phonenumbers.parse(user)\n",
    "time=timezone.time_zones_for_number(phone)\n",
    "car=carrier.name_for_number(phone,\"en\")\n",
    "go=geocoder.description_for_number(phone,\"en\")\n",
    "print(phone)\n",
    "print(time)\n",
    "print(car)\n",
    "print(go)"
   ]
  },
  {
   "cell_type": "code",
   "execution_count": 56,
   "metadata": {},
   "outputs": [
    {
     "name": "stdout",
     "output_type": "stream",
     "text": [
      "10 5\n"
     ]
    },
    {
     "data": {
      "text/plain": [
       "(5, 10)"
      ]
     },
     "execution_count": 56,
     "metadata": {},
     "output_type": "execute_result"
    }
   ],
   "source": [
    "# swapping\n",
    "a=5\n",
    "b=10\n",
    "# a,b=b,a\n",
    "# print(a,b)\n",
    "a,b=[b,a]\n",
    "print(a,b)\n",
    "# temp=a\n",
    "# a=b\n",
    "# b=temp\n",
    "# a,b\n",
    "# a=a+b\n",
    "# b=a-b\n",
    "# a=a-b\n",
    "# a,b\n",
    "a=a^b\n",
    "b=a^b\n",
    "a=a^b\n",
    "a,b"
   ]
  },
  {
   "cell_type": "code",
   "execution_count": 61,
   "metadata": {},
   "outputs": [
    {
     "name": "stdout",
     "output_type": "stream",
     "text": [
      " idex is 2032097511168\n",
      " idex is 2032097956032\n",
      "False\n",
      "True\n"
     ]
    }
   ],
   "source": [
    "#  tuples are imutable\n",
    "a=(1,2,3)\n",
    "b=(1,2,3)\n",
    "print(f\" idex is {id(a)}\")\n",
    "print(f\" idex is {id(b)}\")\n",
    "\n",
    "print(a is b)\n",
    "print(a==b)\n",
    "\n"
   ]
  },
  {
   "cell_type": "code",
   "execution_count": 62,
   "metadata": {},
   "outputs": [
    {
     "name": "stdout",
     "output_type": "stream",
     "text": [
      " idex is 2032097020608\n",
      " idex is 2032097024896\n",
      "False\n",
      "True\n"
     ]
    }
   ],
   "source": [
    "# #  addresss is diff []\n",
    "a=[1,2,3]\n",
    "b=[1,2,3]\n",
    "print(f\" idex is {id(a)}\")\n",
    "print(f\" idex is {id(b)}\")\n",
    "\n",
    "print(a is b)\n",
    "print(a==b)"
   ]
  },
  {
   "cell_type": "code",
   "execution_count": 24,
   "metadata": {},
   "outputs": [
    {
     "name": "stdout",
     "output_type": "stream",
     "text": [
      "hello manasa\n",
      "hello manasa\n",
      "hello manasa\n"
     ]
    }
   ],
   "source": [
    "for _ in range(1,4):\n",
    "    print(\"hello manasa\")"
   ]
  },
  {
   "cell_type": "code",
   "execution_count": null,
   "metadata": {},
   "outputs": [
    {
     "data": {
      "text/plain": [
       "(12, 10)"
      ]
     },
     "execution_count": 2,
     "metadata": {},
     "output_type": "execute_result"
    }
   ],
   "source": []
  },
  {
   "cell_type": "code",
   "execution_count": null,
   "metadata": {},
   "outputs": [
    {
     "name": "stdout",
     "output_type": "stream",
     "text": [
      "{'name': 'manasa', 'Age': 20, 'subject': 'Maths', 'urn': 2022}\n",
      "name manasa\n",
      "Age 20\n",
      "subject Maths\n",
      "urn 2022\n",
      "{'manasa': 'name', 20: 'Age', 'Maths': 'subject', 2022: 'urn'}\n"
     ]
    }
   ],
   "source": [
    "a='Manasa'\n",
    "# # print(a[::-1])\n",
    "b=''\n",
    "\n",
    "for char in a:\n",
    "    print(char, end=\" \")\n",
    "    b\n",
    "    \n",
    "\n",
    "dec={\"name\":\"manasa\",\n",
    "     \"Age\":20,\n",
    "     \"subject\":\"Maths\",\n",
    "     \"urn\":2022\n",
    "    \n",
    "}\n",
    "print(dec)\n",
    "\n",
    "# swapping keys to values and values to keys\n",
    "dec_swap={}\n",
    "for k,v in dec.items():\n",
    "    print(k,v)\n",
    "    dec_swap[v]=k\n",
    "print(dec_swap)    \n",
    "\n"
   ]
  },
  {
   "cell_type": "code",
   "execution_count": 9,
   "metadata": {},
   "outputs": [
    {
     "name": "stdout",
     "output_type": "stream",
     "text": [
      "12\n"
     ]
    }
   ],
   "source": [
    "class name:\n",
    "    age=12\n",
    "    gender=\"Female\"\n",
    "sub_name=name()\n",
    "\n",
    "\n",
    "print(sub_name.age)\n",
    "        \n",
    "    "
   ]
  },
  {
   "cell_type": "code",
   "execution_count": 13,
   "metadata": {},
   "outputs": [
    {
     "name": "stdout",
     "output_type": "stream",
     "text": [
      "yes they are equal\n"
     ]
    }
   ],
   "source": [
    "#palindrome number\n",
    "a=\"malayalam\"\n",
    "reverse=a[::-1]\n",
    "\n",
    "if(a==reverse):\n",
    "    print(\"yes they are equal\")\n",
    "else:\n",
    "    print(\"they are not reverse\")    "
   ]
  },
  {
   "cell_type": "code",
   "execution_count": null,
   "metadata": {},
   "outputs": [
    {
     "name": "stdout",
     "output_type": "stream",
     "text": [
      "asanam\n",
      "asanam\n",
      "they are not reverse\n"
     ]
    }
   ],
   "source": [
    "a=\"manasa\"\n",
    "reverse=a[::-1]\n",
    "print(reverse)\n",
    "\n",
    "if(a==reverse):\n",
    "    print(\"yse they are equal\")\n",
    "else:\n",
    "    print(\"they are not equal\")"
   ]
  },
  {
   "cell_type": "code",
   "execution_count": 6,
   "metadata": {},
   "outputs": [
    {
     "name": "stdout",
     "output_type": "stream",
     "text": [
      "['manasa', 'velpula']\n",
      "manasa velpula\n",
      "MANASA VELPULA\n",
      "MANASA VELPULA\n",
      "Manasa Velpula\n",
      "Manasa velpula\n"
     ]
    }
   ],
   "source": [
    "#string method\n",
    "s=\"manasa velpula\"\n",
    "print(s.split())\n",
    "print(s.lower())\n",
    "print(s.upper())\n",
    "print(s.swapcase())\n",
    "print(s.title())\n",
    "print(s.capitalize())"
   ]
  },
  {
   "cell_type": "code",
   "execution_count": 20,
   "metadata": {},
   "outputs": [
    {
     "name": "stdout",
     "output_type": "stream",
     "text": [
      "['The', 'name', 'odf', 'your', 'college', 'is', 'Ajeenkya', 'Dy', 'patil']\n",
      "The Name Odf Your College Is Ajeenkya Dy Patil\n"
     ]
    }
   ],
   "source": [
    "sentence=\"The name odf your college is Ajeenkya Dy patil\"\n",
    "words=sentence.split()\n",
    "print(words)\n",
    "new_sentence=[]\n",
    "\n",
    "for word in words:\n",
    "    new_word=word[0].upper()+word[1:-1]+word[-1].lower()\n",
    "    new_sentence.append(new_word)\n",
    "    final_sen=\" \".join(new_sentence)\n",
    "print(final_sen)\n",
    "    "
   ]
  },
  {
   "cell_type": "code",
   "execution_count": 64,
   "metadata": {},
   "outputs": [
    {
     "name": "stdout",
     "output_type": "stream",
     "text": [
      "the missing number:  6\n"
     ]
    }
   ],
   "source": [
    "arr=[0,2,1,3,5,4,8,6,10]\n",
    "n=len(arr)\n",
    "total=n*(n+1)//2\n",
    "res=total-sum(arr)\n",
    "print(\"the missing number: \" ,res)"
   ]
  },
  {
   "cell_type": "code",
   "execution_count": null,
   "metadata": {},
   "outputs": [
    {
     "name": "stdout",
     "output_type": "stream",
     "text": [
      "<class 'str'>\n"
     ]
    }
   ],
   "source": [
    "# list to str\n",
    "lis=[\"Manasa\", \"laasa\", \"mounish\"]\n",
    "s=\" \".join(lis)\n",
    "print(type(s))"
   ]
  },
  {
   "cell_type": "code",
   "execution_count": 11,
   "metadata": {},
   "outputs": [
    {
     "name": "stdout",
     "output_type": "stream",
     "text": [
      "{0, 1, 'banana', 'apple', 'cherry'}\n"
     ]
    }
   ],
   "source": [
    "thisset = {\"apple\", \"banana\", \"cherry\",  0, 1,False, True}\n",
    "\n",
    "print(thisset)"
   ]
  },
  {
   "cell_type": "code",
   "execution_count": 14,
   "metadata": {},
   "outputs": [
    {
     "name": "stdout",
     "output_type": "stream",
     "text": [
      "transaction successful\n",
      "available about is 9894.95\n"
     ]
    }
   ],
   "source": [
    "bank=10000.0\n",
    "withdraw=float(input(\"enter  aamount\"))\n",
    "if withdraw > 0:\n",
    "    \n",
    "    \n",
    "    if withdraw<=bank:\n",
    "            bank-=withdraw\n",
    "            print(\"transaction successful\")\n",
    "            print(f\"available about is {bank}\")\n",
    "            \n",
    "            \n",
    "    else:\n",
    "        print(\"insufficient balance\")\n",
    "\n",
    "    \n",
    "else:\n",
    "    print(\"invalid number\") "
   ]
  },
  {
   "cell_type": "code",
   "execution_count": 73,
   "metadata": {},
   "outputs": [
    {
     "name": "stdout",
     "output_type": "stream",
     "text": [
      "         \n",
      "*        \n",
      "* *      \n",
      "* * *    \n",
      "* * * *  \n"
     ]
    }
   ],
   "source": [
    "n=5\n",
    "for i in range(n,0,-1):\n",
    "    print(\"* \"*(n-i)+\" \"*(2*i-1))"
   ]
  },
  {
   "cell_type": "code",
   "execution_count": 79,
   "metadata": {},
   "outputs": [
    {
     "name": "stdout",
     "output_type": "stream",
     "text": [
      "\n",
      "* \n",
      "* * \n",
      "* * * \n",
      "* * * * \n",
      "* * * * * \n",
      "* * * * * \n",
      "* * * *  \n",
      "* * *    \n",
      "* *      \n",
      "*        \n",
      "         \n"
     ]
    }
   ],
   "source": [
    "n=5\n",
    "for i in range(0,n+1):\n",
    "    print(i*\"* \")\n",
    "\n",
    "n=5\n",
    "for i in range(0,n+1):\n",
    "    print(\"* \"*(n-i)+\" \"*(2*i-1))   "
   ]
  }
 ],
 "metadata": {
  "kernelspec": {
   "display_name": "Python 3 (ipykernel)",
   "language": "python",
   "name": "python3"
  },
  "language_info": {
   "codemirror_mode": {
    "name": "ipython",
    "version": 3
   },
   "file_extension": ".py",
   "mimetype": "text/x-python",
   "name": "python",
   "nbconvert_exporter": "python",
   "pygments_lexer": "ipython3",
   "version": "3.13.2"
  }
 },
 "nbformat": 4,
 "nbformat_minor": 2
}
